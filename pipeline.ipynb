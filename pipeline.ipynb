{
 "cells": [
  {
   "cell_type": "markdown",
   "id": "90ef4fd7-61d5-499c-9901-d40977e05b7d",
   "metadata": {},
   "source": [
    "# imports"
   ]
  },
  {
   "cell_type": "code",
   "execution_count": 2,
   "id": "9fadc3d0",
   "metadata": {},
   "outputs": [],
   "source": [
    "import requests\n",
    "import pandas as pd"
   ]
  },
  {
   "cell_type": "markdown",
   "id": "2a884e31",
   "metadata": {},
   "source": [
    "# acquire data"
   ]
  },
  {
   "cell_type": "code",
   "execution_count": 8,
   "id": "ade74e75",
   "metadata": {
    "scrolled": true
   },
   "outputs": [],
   "source": [
    "api_url=\"https://opendata.maryland.gov/api/id/crti-ybyp.json?$select=*&$order=`:id`+ASC&$limit=3000&$offset=0\"\n",
    "resp = requests.get(api_url)\n",
    "data = resp.json()"
   ]
  },
  {
   "cell_type": "markdown",
   "id": "d8cfe4bd",
   "metadata": {},
   "source": [
    "#clean data"
   ]
  },
  {
   "cell_type": "code",
   "execution_count": 9,
   "id": "472a7ee3-c1a3-47d8-a889-9094ff43a007",
   "metadata": {},
   "outputs": [
    {
     "data": {
      "text/plain": [
       "list"
      ]
     },
     "execution_count": 9,
     "metadata": {},
     "output_type": "execute_result"
    }
   ],
   "source": [
    "type(data)"
   ]
  },
  {
   "cell_type": "code",
   "execution_count": 10,
   "id": "fb1f0121-e93a-483e-8d33-ec86d84c77c4",
   "metadata": {},
   "outputs": [
    {
     "data": {
      "text/plain": [
       "{'sno': '1',\n",
       " 'complaint': '232264',\n",
       " 'complaint_description': 'concern of loud noise in the Cheverly area',\n",
       " 'complaint_type': 'Other',\n",
       " 'recieved_date': '2024-03-06',\n",
       " 'incident_date': '2024-03-06',\n",
       " 'county': \"Prince George's\",\n",
       " 'incident_closed_date': '2024-03-08',\n",
       " 'incident_status_desc': 'Incident Closed-Managed'}"
      ]
     },
     "execution_count": 10,
     "metadata": {},
     "output_type": "execute_result"
    }
   ],
   "source": [
    "data[0]"
   ]
  },
  {
   "cell_type": "code",
   "execution_count": 11,
   "id": "9ad711c7-71b7-4766-8457-1e07ab4308cc",
   "metadata": {},
   "outputs": [],
   "source": [
    "df = pd.DataFrame(data)"
   ]
  },
  {
   "cell_type": "code",
   "execution_count": 12,
   "id": "87d93322-67bf-4b2c-a959-c2425532232c",
   "metadata": {},
   "outputs": [],
   "source": [
    "backup_df=df.copy()"
   ]
  },
  {
   "cell_type": "code",
   "execution_count": null,
   "id": "f7e73271-80da-45c8-8eaa-2c3150d631e0",
   "metadata": {},
   "outputs": [],
   "source": [
    "# clean data"
   ]
  },
  {
   "cell_type": "code",
   "execution_count": 14,
   "id": "5fffd72f-0bc2-4149-8cb6-35643b256755",
   "metadata": {},
   "outputs": [
    {
     "data": {
      "text/plain": [
       "sno                      object\n",
       "complaint                object\n",
       "complaint_description    object\n",
       "complaint_type           object\n",
       "recieved_date            object\n",
       "incident_date            object\n",
       "county                   object\n",
       "incident_closed_date     object\n",
       "incident_status_desc     object\n",
       "incident_zip             object\n",
       "dtype: object"
      ]
     },
     "execution_count": 14,
     "metadata": {},
     "output_type": "execute_result"
    }
   ],
   "source": [
    "df.dtypes"
   ]
  },
  {
   "cell_type": "markdown",
   "id": "64305f4d",
   "metadata": {},
   "source": [
    "# analyze data"
   ]
  },
  {
   "cell_type": "code",
   "execution_count": 15,
   "id": "53f17b2d-8ebb-403c-ad25-52f8b041a5e0",
   "metadata": {},
   "outputs": [],
   "source": [
    "df['recieved_date'] = pd.to_datetime(df['recieved_date'])"
   ]
  },
  {
   "cell_type": "code",
   "execution_count": 16,
   "id": "fe5e0862-ba4e-442a-bcfe-9215cf363f52",
   "metadata": {},
   "outputs": [
    {
     "data": {
      "text/plain": [
       "sno                              object\n",
       "complaint                        object\n",
       "complaint_description            object\n",
       "complaint_type                   object\n",
       "recieved_date            datetime64[ns]\n",
       "incident_date                    object\n",
       "county                           object\n",
       "incident_closed_date             object\n",
       "incident_status_desc             object\n",
       "incident_zip                     object\n",
       "dtype: object"
      ]
     },
     "execution_count": 16,
     "metadata": {},
     "output_type": "execute_result"
    }
   ],
   "source": [
    "df.dtypes"
   ]
  },
  {
   "cell_type": "code",
   "execution_count": 17,
   "id": "347dadaf-a6bc-4de1-b265-eadbd36592f1",
   "metadata": {},
   "outputs": [],
   "source": [
    "df['incident_date'] = pd.to_datetime(df['incident_date'])\n",
    "df['incident_closed_date'] = pd.to_datetime(df['incident_closed_date'])"
   ]
  },
  {
   "cell_type": "code",
   "execution_count": 18,
   "id": "35829e49-e034-413c-a9cd-a67c56c8df99",
   "metadata": {},
   "outputs": [
    {
     "data": {
      "text/plain": [
       "sno                              object\n",
       "complaint                        object\n",
       "complaint_description            object\n",
       "complaint_type                   object\n",
       "recieved_date            datetime64[ns]\n",
       "incident_date            datetime64[ns]\n",
       "county                           object\n",
       "incident_closed_date     datetime64[ns]\n",
       "incident_status_desc             object\n",
       "incident_zip                     object\n",
       "dtype: object"
      ]
     },
     "execution_count": 18,
     "metadata": {},
     "output_type": "execute_result"
    }
   ],
   "source": [
    "df.dtypes"
   ]
  },
  {
   "cell_type": "code",
   "execution_count": 19,
   "id": "2f129e1f-1053-4f00-a5e6-0815e9a2f6a8",
   "metadata": {},
   "outputs": [
    {
     "data": {
      "text/plain": [
       "county\n",
       "Baltimore City        101\n",
       "Anne Arundel           85\n",
       "Prince George's        83\n",
       "Frederick              62\n",
       "Baltimore              57\n",
       "Montgomery             35\n",
       "Cecil                  25\n",
       "Dorchester             17\n",
       "Harford                17\n",
       "Howard                 15\n",
       "Allegany               15\n",
       "Washington             14\n",
       "Charles                12\n",
       "Carroll                 9\n",
       "Wicomico                8\n",
       "Not Yet Determined      7\n",
       "Worcester               7\n",
       "St. Mary's              6\n",
       "Garrett                 5\n",
       "Caroline                3\n",
       "Queen Anne's            2\n",
       "Somerset                2\n",
       "Talbot                  1\n",
       "Kent                    1\n",
       "Statewide               1\n",
       "Name: count, dtype: int64"
      ]
     },
     "execution_count": 19,
     "metadata": {},
     "output_type": "execute_result"
    }
   ],
   "source": [
    "# For the summaries we're running, we'll limit that to just complaints received in the last year?\n",
    "\n",
    "year_ago_date = pd.Timestamp('2023-03-09')\n",
    "\n",
    "last_year_df = df[df[\"recieved_date\"] > year_ago_date].copy()\n",
    "\n",
    "# How many are in each county?\n",
    "last_year_df[\"county\"].value_counts()"
   ]
  },
  {
   "cell_type": "code",
   "execution_count": 20,
   "id": "77a12d9b-a1a2-43f8-b624-ade596f3cfb7",
   "metadata": {},
   "outputs": [
    {
     "data": {
      "text/plain": [
       "complaint_type\n",
       "Air                                                                                 166\n",
       "Odor                                                                                140\n",
       "Other                                                                               121\n",
       "Fugitive Dust/Particulate Matter                                                     35\n",
       "Smoke                                                                                28\n",
       "Air, Fumes, Odor                                                                     20\n",
       "Open Burning                                                                         13\n",
       "Air, Odor                                                                            11\n",
       "Fumes                                                                                11\n",
       "Open Burning, Smoke                                                                   7\n",
       "Air, Odor, Smoke                                                                      4\n",
       "Air, Fugitive Dust/Particulate Matter                                                 4\n",
       "Odor, Open Burning, Smoke                                                             3\n",
       "Fugitive Dust/Particulate Matter, Smoke                                               3\n",
       "Air, Open Burning                                                                     3\n",
       "Air, Other                                                                            3\n",
       "Air, Smoke                                                                            2\n",
       "Air Pollutant Release                                                                 2\n",
       "Odor, Smoke                                                                           2\n",
       "Noise Complaint                                                                       2\n",
       "Asbestos Complaint                                                                    2\n",
       "Non-Tidal Wetlands/Waterway                                                           2\n",
       "Air, Odor, Open Burning                                                               1\n",
       "Air, Fumes, Smoke                                                                     1\n",
       "Air, Fumes, Odor, Smoke                                                               1\n",
       "Fumes, Smoke                                                                          1\n",
       "Fumes, Open Burning, Smoke                                                            1\n",
       "Air, Fumes, Other                                                                     1\n",
       "ARA AQCP non-regulated entity                                                         1\n",
       "Fumes, Odor, Smoke                                                                    1\n",
       "Air, Fugitive Dust/Particulate Matter, Odor                                           1\n",
       "Air, Fugitive Dust/Particulate Matter, Smoke                                          1\n",
       "Air, Asbestos Complaint                                                               1\n",
       "Air, Fugitive Dust/Particulate Matter, Other, Suspected Operation without Permit      1\n",
       "Air, Odor, Open Burning, Smoke                                                        1\n",
       "Air, Fumes                                                                            1\n",
       "Fumes, Odor, Open Burning                                                             1\n",
       "Name: count, dtype: int64"
      ]
     },
     "execution_count": 20,
     "metadata": {},
     "output_type": "execute_result"
    }
   ],
   "source": [
    "# What are the most common types of complaint?\n",
    "# last_year_df[\"complaint_type\"]\n",
    "last_year_df[\"complaint_type\"].value_counts()"
   ]
  },
  {
   "cell_type": "code",
   "execution_count": 21,
   "id": "c4246416-fb90-4f8e-aeae-5d7a206e206d",
   "metadata": {},
   "outputs": [],
   "source": [
    "# Wait, though. The second line has a type of \"Air, Other\" — shouldn't that count toward both categories?\n",
    "# The data's bunched up, so we need to make the table longer.\n",
    "# (Important caveat to be thinking what each row represents — you could fall into a trap with this transformation.)\n",
    "last_year_df[\"complaint_type\"] = last_year_df[\"complaint_type\"].str.split(', ')"
   ]
  },
  {
   "cell_type": "code",
   "execution_count": 22,
   "id": "08633a01-04ea-4aa3-b4b6-d689db3e1c35",
   "metadata": {},
   "outputs": [
    {
     "data": {
      "text/html": [
       "<div>\n",
       "<style scoped>\n",
       "    .dataframe tbody tr th:only-of-type {\n",
       "        vertical-align: middle;\n",
       "    }\n",
       "\n",
       "    .dataframe tbody tr th {\n",
       "        vertical-align: top;\n",
       "    }\n",
       "\n",
       "    .dataframe thead th {\n",
       "        text-align: right;\n",
       "    }\n",
       "</style>\n",
       "<table border=\"1\" class=\"dataframe\">\n",
       "  <thead>\n",
       "    <tr style=\"text-align: right;\">\n",
       "      <th></th>\n",
       "      <th>sno</th>\n",
       "      <th>complaint</th>\n",
       "      <th>complaint_description</th>\n",
       "      <th>complaint_type</th>\n",
       "      <th>recieved_date</th>\n",
       "      <th>incident_date</th>\n",
       "      <th>county</th>\n",
       "      <th>incident_closed_date</th>\n",
       "      <th>incident_status_desc</th>\n",
       "      <th>incident_zip</th>\n",
       "    </tr>\n",
       "  </thead>\n",
       "  <tbody>\n",
       "    <tr>\n",
       "      <th>0</th>\n",
       "      <td>1</td>\n",
       "      <td>232264</td>\n",
       "      <td>concern of loud noise in the Cheverly area</td>\n",
       "      <td>[Other]</td>\n",
       "      <td>2024-03-06</td>\n",
       "      <td>2024-03-06</td>\n",
       "      <td>Prince George's</td>\n",
       "      <td>2024-03-08</td>\n",
       "      <td>Incident Closed-Managed</td>\n",
       "      <td>NaN</td>\n",
       "    </tr>\n",
       "    <tr>\n",
       "      <th>1</th>\n",
       "      <td>2</td>\n",
       "      <td>232263</td>\n",
       "      <td>concern of loud noise in the Cheverly area</td>\n",
       "      <td>[Other]</td>\n",
       "      <td>2024-03-06</td>\n",
       "      <td>2024-03-06</td>\n",
       "      <td>Prince George's</td>\n",
       "      <td>2024-03-08</td>\n",
       "      <td>Incident Closed-Managed</td>\n",
       "      <td>NaN</td>\n",
       "    </tr>\n",
       "    <tr>\n",
       "      <th>2</th>\n",
       "      <td>3</td>\n",
       "      <td>232262</td>\n",
       "      <td>concern of loud noise in the Cheverly area</td>\n",
       "      <td>[Other]</td>\n",
       "      <td>2024-03-06</td>\n",
       "      <td>2024-03-06</td>\n",
       "      <td>Prince George's</td>\n",
       "      <td>2024-03-08</td>\n",
       "      <td>Incident Closed-Managed</td>\n",
       "      <td>NaN</td>\n",
       "    </tr>\n",
       "    <tr>\n",
       "      <th>3</th>\n",
       "      <td>4</td>\n",
       "      <td>232261</td>\n",
       "      <td>concern of loud noise in the Cheverly area</td>\n",
       "      <td>[Other]</td>\n",
       "      <td>2024-03-06</td>\n",
       "      <td>2024-03-06</td>\n",
       "      <td>Prince George's</td>\n",
       "      <td>2024-03-08</td>\n",
       "      <td>Incident Closed-Managed</td>\n",
       "      <td>NaN</td>\n",
       "    </tr>\n",
       "    <tr>\n",
       "      <th>4</th>\n",
       "      <td>5</td>\n",
       "      <td>232260</td>\n",
       "      <td>concern of loud noise in the Cheverly area</td>\n",
       "      <td>[Other]</td>\n",
       "      <td>2024-03-06</td>\n",
       "      <td>2024-03-06</td>\n",
       "      <td>Prince George's</td>\n",
       "      <td>2024-03-08</td>\n",
       "      <td>Incident Closed-Managed</td>\n",
       "      <td>NaN</td>\n",
       "    </tr>\n",
       "  </tbody>\n",
       "</table>\n",
       "</div>"
      ],
      "text/plain": [
       "  sno complaint                       complaint_description complaint_type  \\\n",
       "0   1    232264  concern of loud noise in the Cheverly area        [Other]   \n",
       "1   2    232263  concern of loud noise in the Cheverly area        [Other]   \n",
       "2   3    232262  concern of loud noise in the Cheverly area        [Other]   \n",
       "3   4    232261  concern of loud noise in the Cheverly area        [Other]   \n",
       "4   5    232260  concern of loud noise in the Cheverly area        [Other]   \n",
       "\n",
       "  recieved_date incident_date           county incident_closed_date  \\\n",
       "0    2024-03-06    2024-03-06  Prince George's           2024-03-08   \n",
       "1    2024-03-06    2024-03-06  Prince George's           2024-03-08   \n",
       "2    2024-03-06    2024-03-06  Prince George's           2024-03-08   \n",
       "3    2024-03-06    2024-03-06  Prince George's           2024-03-08   \n",
       "4    2024-03-06    2024-03-06  Prince George's           2024-03-08   \n",
       "\n",
       "      incident_status_desc incident_zip  \n",
       "0  Incident Closed-Managed          NaN  \n",
       "1  Incident Closed-Managed          NaN  \n",
       "2  Incident Closed-Managed          NaN  \n",
       "3  Incident Closed-Managed          NaN  \n",
       "4  Incident Closed-Managed          NaN  "
      ]
     },
     "execution_count": 22,
     "metadata": {},
     "output_type": "execute_result"
    }
   ],
   "source": [
    "# Look at the first five rows.\n",
    "last_year_df[0:5]"
   ]
  },
  {
   "cell_type": "code",
   "execution_count": 25,
   "id": "1c42fedd-0d16-4346-84ed-3d6b6ba68e59",
   "metadata": {},
   "outputs": [
    {
     "data": {
      "text/html": [
       "<div>\n",
       "<style scoped>\n",
       "    .dataframe tbody tr th:only-of-type {\n",
       "        vertical-align: middle;\n",
       "    }\n",
       "\n",
       "    .dataframe tbody tr th {\n",
       "        vertical-align: top;\n",
       "    }\n",
       "\n",
       "    .dataframe thead th {\n",
       "        text-align: right;\n",
       "    }\n",
       "</style>\n",
       "<table border=\"1\" class=\"dataframe\">\n",
       "  <thead>\n",
       "    <tr style=\"text-align: right;\">\n",
       "      <th></th>\n",
       "      <th>sno</th>\n",
       "      <th>complaint</th>\n",
       "      <th>complaint_description</th>\n",
       "      <th>complaint_type</th>\n",
       "      <th>recieved_date</th>\n",
       "      <th>incident_date</th>\n",
       "      <th>county</th>\n",
       "      <th>incident_closed_date</th>\n",
       "      <th>incident_status_desc</th>\n",
       "      <th>incident_zip</th>\n",
       "    </tr>\n",
       "  </thead>\n",
       "  <tbody>\n",
       "    <tr>\n",
       "      <th>0</th>\n",
       "      <td>1</td>\n",
       "      <td>232264</td>\n",
       "      <td>concern of loud noise in the Cheverly area</td>\n",
       "      <td>Other</td>\n",
       "      <td>2024-03-06</td>\n",
       "      <td>2024-03-06</td>\n",
       "      <td>Prince George's</td>\n",
       "      <td>2024-03-08</td>\n",
       "      <td>Incident Closed-Managed</td>\n",
       "      <td>NaN</td>\n",
       "    </tr>\n",
       "    <tr>\n",
       "      <th>1</th>\n",
       "      <td>2</td>\n",
       "      <td>232263</td>\n",
       "      <td>concern of loud noise in the Cheverly area</td>\n",
       "      <td>Other</td>\n",
       "      <td>2024-03-06</td>\n",
       "      <td>2024-03-06</td>\n",
       "      <td>Prince George's</td>\n",
       "      <td>2024-03-08</td>\n",
       "      <td>Incident Closed-Managed</td>\n",
       "      <td>NaN</td>\n",
       "    </tr>\n",
       "    <tr>\n",
       "      <th>2</th>\n",
       "      <td>3</td>\n",
       "      <td>232262</td>\n",
       "      <td>concern of loud noise in the Cheverly area</td>\n",
       "      <td>Other</td>\n",
       "      <td>2024-03-06</td>\n",
       "      <td>2024-03-06</td>\n",
       "      <td>Prince George's</td>\n",
       "      <td>2024-03-08</td>\n",
       "      <td>Incident Closed-Managed</td>\n",
       "      <td>NaN</td>\n",
       "    </tr>\n",
       "    <tr>\n",
       "      <th>3</th>\n",
       "      <td>4</td>\n",
       "      <td>232261</td>\n",
       "      <td>concern of loud noise in the Cheverly area</td>\n",
       "      <td>Other</td>\n",
       "      <td>2024-03-06</td>\n",
       "      <td>2024-03-06</td>\n",
       "      <td>Prince George's</td>\n",
       "      <td>2024-03-08</td>\n",
       "      <td>Incident Closed-Managed</td>\n",
       "      <td>NaN</td>\n",
       "    </tr>\n",
       "    <tr>\n",
       "      <th>4</th>\n",
       "      <td>5</td>\n",
       "      <td>232260</td>\n",
       "      <td>concern of loud noise in the Cheverly area</td>\n",
       "      <td>Other</td>\n",
       "      <td>2024-03-06</td>\n",
       "      <td>2024-03-06</td>\n",
       "      <td>Prince George's</td>\n",
       "      <td>2024-03-08</td>\n",
       "      <td>Incident Closed-Managed</td>\n",
       "      <td>NaN</td>\n",
       "    </tr>\n",
       "    <tr>\n",
       "      <th>5</th>\n",
       "      <td>6</td>\n",
       "      <td>232259</td>\n",
       "      <td>concern of loud noise in the Cheverly area</td>\n",
       "      <td>Other</td>\n",
       "      <td>2024-03-06</td>\n",
       "      <td>2024-03-06</td>\n",
       "      <td>Prince George's</td>\n",
       "      <td>2024-03-08</td>\n",
       "      <td>Incident Closed-Managed</td>\n",
       "      <td>NaN</td>\n",
       "    </tr>\n",
       "    <tr>\n",
       "      <th>6</th>\n",
       "      <td>7</td>\n",
       "      <td>232258</td>\n",
       "      <td>concern of loud noise in the Cheverly area</td>\n",
       "      <td>Other</td>\n",
       "      <td>2024-03-06</td>\n",
       "      <td>2024-03-06</td>\n",
       "      <td>Prince George's</td>\n",
       "      <td>2024-03-08</td>\n",
       "      <td>Incident Closed-Managed</td>\n",
       "      <td>NaN</td>\n",
       "    </tr>\n",
       "    <tr>\n",
       "      <th>7</th>\n",
       "      <td>8</td>\n",
       "      <td>232257</td>\n",
       "      <td>concern of loud noise in the Cheverly area</td>\n",
       "      <td>Other</td>\n",
       "      <td>2024-03-06</td>\n",
       "      <td>2024-03-06</td>\n",
       "      <td>Prince George's</td>\n",
       "      <td>2024-03-08</td>\n",
       "      <td>Incident Closed-Managed</td>\n",
       "      <td>NaN</td>\n",
       "    </tr>\n",
       "    <tr>\n",
       "      <th>8</th>\n",
       "      <td>9</td>\n",
       "      <td>232253</td>\n",
       "      <td>Complainant states odors from Stahl Point Road...</td>\n",
       "      <td>Air</td>\n",
       "      <td>2024-03-07</td>\n",
       "      <td>2024-03-07</td>\n",
       "      <td>Anne Arundel</td>\n",
       "      <td>NaT</td>\n",
       "      <td>Under Investigation</td>\n",
       "      <td>NaN</td>\n",
       "    </tr>\n",
       "    <tr>\n",
       "      <th>9</th>\n",
       "      <td>10</td>\n",
       "      <td>232252</td>\n",
       "      <td>Complainant states odor from the Curtis Medica...</td>\n",
       "      <td>Air</td>\n",
       "      <td>2024-03-07</td>\n",
       "      <td>2024-03-06</td>\n",
       "      <td>Anne Arundel</td>\n",
       "      <td>NaT</td>\n",
       "      <td>Under Investigation</td>\n",
       "      <td>NaN</td>\n",
       "    </tr>\n",
       "    <tr>\n",
       "      <th>10</th>\n",
       "      <td>11</td>\n",
       "      <td>232250</td>\n",
       "      <td>Chemical paint odor from a Company mixing pain...</td>\n",
       "      <td>Air</td>\n",
       "      <td>2024-03-07</td>\n",
       "      <td>2024-03-06</td>\n",
       "      <td>Anne Arundel</td>\n",
       "      <td>2024-03-07</td>\n",
       "      <td>Incident Closed-No Violation Observed</td>\n",
       "      <td>NaN</td>\n",
       "    </tr>\n",
       "    <tr>\n",
       "      <th>11</th>\n",
       "      <td>12</td>\n",
       "      <td>232240</td>\n",
       "      <td>Open burning branches causing nuisance</td>\n",
       "      <td>Open Burning</td>\n",
       "      <td>2024-03-04</td>\n",
       "      <td>2024-03-03</td>\n",
       "      <td>Wicomico</td>\n",
       "      <td>NaT</td>\n",
       "      <td>Under Investigation</td>\n",
       "      <td>21804</td>\n",
       "    </tr>\n",
       "    <tr>\n",
       "      <th>12</th>\n",
       "      <td>13</td>\n",
       "      <td>232216</td>\n",
       "      <td>Odor Complaint</td>\n",
       "      <td>Odor</td>\n",
       "      <td>2024-03-01</td>\n",
       "      <td>2024-03-01</td>\n",
       "      <td>Dorchester</td>\n",
       "      <td>2024-03-01</td>\n",
       "      <td>Incident Closed - No further action</td>\n",
       "      <td>21835</td>\n",
       "    </tr>\n",
       "    <tr>\n",
       "      <th>13</th>\n",
       "      <td>14</td>\n",
       "      <td>232215</td>\n",
       "      <td>Odor Complaint</td>\n",
       "      <td>Odor</td>\n",
       "      <td>2024-03-01</td>\n",
       "      <td>2024-03-01</td>\n",
       "      <td>Dorchester</td>\n",
       "      <td>2024-03-01</td>\n",
       "      <td>Incident Closed - No further action</td>\n",
       "      <td>21835</td>\n",
       "    </tr>\n",
       "    <tr>\n",
       "      <th>14</th>\n",
       "      <td>15</td>\n",
       "      <td>232214</td>\n",
       "      <td>Odor Complaint</td>\n",
       "      <td>Odor</td>\n",
       "      <td>2024-02-26</td>\n",
       "      <td>2024-02-26</td>\n",
       "      <td>Dorchester</td>\n",
       "      <td>2024-02-26</td>\n",
       "      <td>Incident Closed - No further action</td>\n",
       "      <td>21835</td>\n",
       "    </tr>\n",
       "    <tr>\n",
       "      <th>15</th>\n",
       "      <td>16</td>\n",
       "      <td>232205</td>\n",
       "      <td>Neighbor's fireplace is producing large amount...</td>\n",
       "      <td>Air</td>\n",
       "      <td>2024-02-29</td>\n",
       "      <td>2024-02-29</td>\n",
       "      <td>Carroll</td>\n",
       "      <td>NaT</td>\n",
       "      <td>Referred to Outside Agency</td>\n",
       "      <td>NaN</td>\n",
       "    </tr>\n",
       "    <tr>\n",
       "      <th>15</th>\n",
       "      <td>16</td>\n",
       "      <td>232205</td>\n",
       "      <td>Neighbor's fireplace is producing large amount...</td>\n",
       "      <td>Smoke</td>\n",
       "      <td>2024-02-29</td>\n",
       "      <td>2024-02-29</td>\n",
       "      <td>Carroll</td>\n",
       "      <td>NaT</td>\n",
       "      <td>Referred to Outside Agency</td>\n",
       "      <td>NaN</td>\n",
       "    </tr>\n",
       "    <tr>\n",
       "      <th>16</th>\n",
       "      <td>17</td>\n",
       "      <td>232204</td>\n",
       "      <td>Concern of loud boom noise in the Cheverly area</td>\n",
       "      <td>Other</td>\n",
       "      <td>2024-02-28</td>\n",
       "      <td>2024-02-28</td>\n",
       "      <td>Prince George's</td>\n",
       "      <td>2024-03-01</td>\n",
       "      <td>Incident Closed-Managed</td>\n",
       "      <td>NaN</td>\n",
       "    </tr>\n",
       "    <tr>\n",
       "      <th>17</th>\n",
       "      <td>18</td>\n",
       "      <td>232203</td>\n",
       "      <td>Complainant describes a foul dead animal odor ...</td>\n",
       "      <td>Air</td>\n",
       "      <td>2024-03-01</td>\n",
       "      <td>2024-03-01</td>\n",
       "      <td>Anne Arundel</td>\n",
       "      <td>NaT</td>\n",
       "      <td>Under Investigation</td>\n",
       "      <td>NaN</td>\n",
       "    </tr>\n",
       "    <tr>\n",
       "      <th>18</th>\n",
       "      <td>19</td>\n",
       "      <td>232193</td>\n",
       "      <td>Concern of neighbor painting cars</td>\n",
       "      <td>Other</td>\n",
       "      <td>2024-02-27</td>\n",
       "      <td>2024-02-27</td>\n",
       "      <td>Prince George's</td>\n",
       "      <td>2024-02-28</td>\n",
       "      <td>Incident Closed-Managed</td>\n",
       "      <td>20735</td>\n",
       "    </tr>\n",
       "    <tr>\n",
       "      <th>19</th>\n",
       "      <td>20</td>\n",
       "      <td>232191</td>\n",
       "      <td>Dust from sandblasting vehicles.  Permit for s...</td>\n",
       "      <td>Air</td>\n",
       "      <td>2024-02-28</td>\n",
       "      <td>2024-02-28</td>\n",
       "      <td>Frederick</td>\n",
       "      <td>NaT</td>\n",
       "      <td>Referred to Attorney General's Office</td>\n",
       "      <td>NaN</td>\n",
       "    </tr>\n",
       "  </tbody>\n",
       "</table>\n",
       "</div>"
      ],
      "text/plain": [
       "   sno complaint                              complaint_description  \\\n",
       "0    1    232264         concern of loud noise in the Cheverly area   \n",
       "1    2    232263         concern of loud noise in the Cheverly area   \n",
       "2    3    232262         concern of loud noise in the Cheverly area   \n",
       "3    4    232261         concern of loud noise in the Cheverly area   \n",
       "4    5    232260         concern of loud noise in the Cheverly area   \n",
       "5    6    232259         concern of loud noise in the Cheverly area   \n",
       "6    7    232258         concern of loud noise in the Cheverly area   \n",
       "7    8    232257         concern of loud noise in the Cheverly area   \n",
       "8    9    232253  Complainant states odors from Stahl Point Road...   \n",
       "9   10    232252  Complainant states odor from the Curtis Medica...   \n",
       "10  11    232250  Chemical paint odor from a Company mixing pain...   \n",
       "11  12    232240             Open burning branches causing nuisance   \n",
       "12  13    232216                                     Odor Complaint   \n",
       "13  14    232215                                     Odor Complaint   \n",
       "14  15    232214                                     Odor Complaint   \n",
       "15  16    232205  Neighbor's fireplace is producing large amount...   \n",
       "15  16    232205  Neighbor's fireplace is producing large amount...   \n",
       "16  17    232204    Concern of loud boom noise in the Cheverly area   \n",
       "17  18    232203  Complainant describes a foul dead animal odor ...   \n",
       "18  19    232193                  Concern of neighbor painting cars   \n",
       "19  20    232191  Dust from sandblasting vehicles.  Permit for s...   \n",
       "\n",
       "   complaint_type recieved_date incident_date           county  \\\n",
       "0           Other    2024-03-06    2024-03-06  Prince George's   \n",
       "1           Other    2024-03-06    2024-03-06  Prince George's   \n",
       "2           Other    2024-03-06    2024-03-06  Prince George's   \n",
       "3           Other    2024-03-06    2024-03-06  Prince George's   \n",
       "4           Other    2024-03-06    2024-03-06  Prince George's   \n",
       "5           Other    2024-03-06    2024-03-06  Prince George's   \n",
       "6           Other    2024-03-06    2024-03-06  Prince George's   \n",
       "7           Other    2024-03-06    2024-03-06  Prince George's   \n",
       "8             Air    2024-03-07    2024-03-07     Anne Arundel   \n",
       "9             Air    2024-03-07    2024-03-06     Anne Arundel   \n",
       "10            Air    2024-03-07    2024-03-06     Anne Arundel   \n",
       "11   Open Burning    2024-03-04    2024-03-03         Wicomico   \n",
       "12           Odor    2024-03-01    2024-03-01       Dorchester   \n",
       "13           Odor    2024-03-01    2024-03-01       Dorchester   \n",
       "14           Odor    2024-02-26    2024-02-26       Dorchester   \n",
       "15            Air    2024-02-29    2024-02-29          Carroll   \n",
       "15          Smoke    2024-02-29    2024-02-29          Carroll   \n",
       "16          Other    2024-02-28    2024-02-28  Prince George's   \n",
       "17            Air    2024-03-01    2024-03-01     Anne Arundel   \n",
       "18          Other    2024-02-27    2024-02-27  Prince George's   \n",
       "19            Air    2024-02-28    2024-02-28        Frederick   \n",
       "\n",
       "   incident_closed_date                   incident_status_desc incident_zip  \n",
       "0            2024-03-08                Incident Closed-Managed          NaN  \n",
       "1            2024-03-08                Incident Closed-Managed          NaN  \n",
       "2            2024-03-08                Incident Closed-Managed          NaN  \n",
       "3            2024-03-08                Incident Closed-Managed          NaN  \n",
       "4            2024-03-08                Incident Closed-Managed          NaN  \n",
       "5            2024-03-08                Incident Closed-Managed          NaN  \n",
       "6            2024-03-08                Incident Closed-Managed          NaN  \n",
       "7            2024-03-08                Incident Closed-Managed          NaN  \n",
       "8                   NaT                    Under Investigation          NaN  \n",
       "9                   NaT                    Under Investigation          NaN  \n",
       "10           2024-03-07  Incident Closed-No Violation Observed          NaN  \n",
       "11                  NaT                    Under Investigation        21804  \n",
       "12           2024-03-01    Incident Closed - No further action        21835  \n",
       "13           2024-03-01    Incident Closed - No further action        21835  \n",
       "14           2024-02-26    Incident Closed - No further action        21835  \n",
       "15                  NaT             Referred to Outside Agency          NaN  \n",
       "15                  NaT             Referred to Outside Agency          NaN  \n",
       "16           2024-03-01                Incident Closed-Managed          NaN  \n",
       "17                  NaT                    Under Investigation          NaN  \n",
       "18           2024-02-28                Incident Closed-Managed        20735  \n",
       "19                  NaT  Referred to Attorney General's Office          NaN  "
      ]
     },
     "execution_count": 25,
     "metadata": {},
     "output_type": "execute_result"
    }
   ],
   "source": [
    "# Now, see what it looks like when we run \"explode\" on these five rows.\n",
    "last_year_df[0:20].explode(\"complaint_type\")"
   ]
  },
  {
   "cell_type": "code",
   "execution_count": 26,
   "id": "8d53466a-a8a3-4911-80f9-63f0e636033a",
   "metadata": {},
   "outputs": [],
   "source": [
    "# Now, apply this to our full dataset.\n",
    "complaints_by_type = last_year_df.explode(\"complaint_type\")"
   ]
  },
  {
   "cell_type": "code",
   "execution_count": 27,
   "id": "44a554a2-2d1b-4b1b-a0cd-20e0e5893b4a",
   "metadata": {},
   "outputs": [
    {
     "data": {
      "text/plain": [
       "complaint_type\n",
       "Air                                   223\n",
       "Odor                                  186\n",
       "Other                                 126\n",
       "Smoke                                  56\n",
       "Fugitive Dust/Particulate Matter       45\n",
       "Fumes                                  39\n",
       "Open Burning                           30\n",
       "Asbestos Complaint                      3\n",
       "Air Pollutant Release                   2\n",
       "Noise Complaint                         2\n",
       "Non-Tidal Wetlands/Waterway             2\n",
       "Suspected Operation without Permit      1\n",
       "ARA AQCP non-regulated entity           1\n",
       "Name: count, dtype: int64"
      ]
     },
     "execution_count": 27,
     "metadata": {},
     "output_type": "execute_result"
    }
   ],
   "source": [
    "# Now we can see how many times each type of complaint was lodged.\n",
    "last_year_by_type = complaints_by_type[\"complaint_type\"].value_counts()\n",
    "\n",
    "last_year_by_type\n",
    "\n",
    "# We'll leave the complaints-by-type dataset there for now, but note that we _could_ export one CSV per complaint type,\n",
    "# if for example that would help reporters on different beats focus on their relevant parts of the same data."
   ]
  },
  {
   "cell_type": "code",
   "execution_count": 28,
   "id": "a378c8a5-118d-4a78-b540-be9edb767d63",
   "metadata": {},
   "outputs": [
    {
     "data": {
      "text/plain": [
       "9"
      ]
     },
     "execution_count": 28,
     "metadata": {},
     "output_type": "execute_result"
    }
   ],
   "source": [
    "# There are some `NaN` values in the county column. Let's toss them out from the main dataframe.\n",
    "# First, we'll see how many rows are missing one value or the other.\n",
    "last_year_df[\"county\"].isna().sum()"
   ]
  },
  {
   "cell_type": "code",
   "execution_count": 29,
   "id": "d43b768d-c1ce-40d1-8bb8-544a3c0b3e15",
   "metadata": {},
   "outputs": [
    {
     "data": {
      "text/plain": [
       "array([\"Prince George's\", 'Anne Arundel', 'Wicomico', 'Dorchester',\n",
       "       'Carroll', 'Frederick', 'Charles', nan, 'Montgomery', 'Worcester',\n",
       "       'Baltimore', 'Cecil', 'Allegany', 'Baltimore City', 'Talbot',\n",
       "       'Not Yet Determined', 'Howard', 'Caroline', 'Washington',\n",
       "       \"Queen Anne's\", 'Harford', 'Garrett', \"St. Mary's\", 'Kent',\n",
       "       'Statewide', 'Somerset'], dtype=object)"
      ]
     },
     "execution_count": 29,
     "metadata": {},
     "output_type": "execute_result"
    }
   ],
   "source": [
    "# We know we have just a handful of NAs, but what about others? Let's look at all unique county values first.\n",
    "last_year_df[\"county\"].unique()"
   ]
  },
  {
   "cell_type": "code",
   "execution_count": 30,
   "id": "45fc30ed-c54c-468d-9e32-eee5b6607085",
   "metadata": {},
   "outputs": [],
   "source": [
    "# It looks like there are three more we should screen out: \"Not Yet Determined\", \"Outside of Maryland\" and \"Statewide.\"\n",
    "# We'll create other dataframes with just those values — and export them to CSV files so that we have the option of looking through those one by one at some point.\n",
    "null_county_rows = last_year_df[last_year_df['county'].isnull()]\n",
    "wrong_county_rows = last_year_df[last_year_df['county'].isin([\"Not Yet Determined\", \"Outside of Maryland\", \"Statewide\"])]\n",
    "\n",
    "# Export each one separately.\n",
    "null_county_rows.to_csv(\"exported_data/null_counties.csv\")\n",
    "wrong_county_rows.to_csv(\"exported_data/wrong_counties.csv\")"
   ]
  },
  {
   "cell_type": "code",
   "execution_count": 31,
   "id": "2809acb3-5b4f-49ce-acce-671670b81e40",
   "metadata": {},
   "outputs": [],
   "source": [
    "# Now, do a new dataframe with only the values we expect.\n",
    "last_year_df = last_year_df[last_year_df['county'].isnull() == False]\n",
    "last_year_df = last_year_df[last_year_df['county'].isin([\"Not Yet Determined\", \"Outside of Maryland\", \"Statewide\"]) == False]"
   ]
  },
  {
   "cell_type": "code",
   "execution_count": 32,
   "id": "63de73a2-bf0b-4db6-b14e-08b90e072041",
   "metadata": {},
   "outputs": [
    {
     "data": {
      "text/plain": [
       "county\n",
       "Baltimore City     101\n",
       "Anne Arundel        85\n",
       "Prince George's     83\n",
       "Frederick           62\n",
       "Baltimore           57\n",
       "Montgomery          35\n",
       "Cecil               25\n",
       "Harford             17\n",
       "Dorchester          17\n",
       "Howard              15\n",
       "Allegany            15\n",
       "Washington          14\n",
       "Charles             12\n",
       "Carroll              9\n",
       "Wicomico             8\n",
       "Worcester            7\n",
       "St. Mary's           6\n",
       "Garrett              5\n",
       "Caroline             3\n",
       "Queen Anne's         2\n",
       "Somerset             2\n",
       "Talbot               1\n",
       "Kent                 1\n",
       "Name: count, dtype: int64"
      ]
     },
     "execution_count": 32,
     "metadata": {},
     "output_type": "execute_result"
    }
   ],
   "source": [
    "# Let's go back to the \"one row = one complaint\" dataset, and look at how many complaints have come in from each county.\n",
    "last_year_by_county = last_year_df[\"county\"].value_counts()\n",
    "\n",
    "last_year_by_county"
   ]
  },
  {
   "cell_type": "markdown",
   "id": "4849e5e3",
   "metadata": {},
   "source": [
    "# export data"
   ]
  },
  {
   "cell_type": "code",
   "execution_count": 33,
   "id": "268efbed-a0a1-4f91-8c9c-2fdcf8a0cb2a",
   "metadata": {},
   "outputs": [],
   "source": [
    "# Let's write out our main dataset as a CSV.\n",
    "df.to_csv(\n",
    "    f\"exported_data/all_complaints.csv\",\n",
    "    index=False,\n",
    "    columns=[\n",
    "        \"complaint\",\n",
    "        \"incident_date\",\n",
    "        \"county\",\n",
    "        \"incident_zip\",\n",
    "        \"complaint_type\",\n",
    "        \"complaint_description\",\n",
    "        \"recieved_date\",\n",
    "        \"incident_status_desc\",\n",
    "        \"incident_closed_date\",\n",
    "    ]\n",
    ")"
   ]
  },
  {
   "cell_type": "code",
   "execution_count": 34,
   "id": "5a5f4800-3fbd-4423-97c3-1042bb6beb63",
   "metadata": {},
   "outputs": [],
   "source": [
    "# We've also effectively made a couple of pivot tables (reports per county and frequency of report type). Let's export them, too.\n",
    "last_year_by_type.to_csv(\"exported_data/complaint_typef_frequency.csv\")\n",
    "last_year_by_county.to_csv(\"exported_data/county_frequency.csv\")"
   ]
  },
  {
   "cell_type": "code",
   "execution_count": null,
   "id": "65f1ad3e-9f1d-4625-95cd-0c4b84577f69",
   "metadata": {},
   "outputs": [],
   "source": []
  }
 ],
 "metadata": {
  "kernelspec": {
   "display_name": "Python 3 (ipykernel)",
   "language": "python",
   "name": "python3"
  },
  "language_info": {
   "codemirror_mode": {
    "name": "ipython",
    "version": 3
   },
   "file_extension": ".py",
   "mimetype": "text/x-python",
   "name": "python",
   "nbconvert_exporter": "python",
   "pygments_lexer": "ipython3",
   "version": "3.11.8"
  }
 },
 "nbformat": 4,
 "nbformat_minor": 5
}
